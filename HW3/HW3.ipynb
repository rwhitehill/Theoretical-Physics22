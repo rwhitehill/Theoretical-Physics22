{
 "cells": [
  {
   "cell_type": "code",
   "execution_count": 2,
   "id": "014e5f6e-8016-4c7f-8183-777d0b145b8a",
   "metadata": {},
   "outputs": [],
   "source": [
    "import sympy as sp\n",
    "import numpy as np"
   ]
  },
  {
   "cell_type": "markdown",
   "id": "9cc33bf9-cd12-4a67-815d-ba4e6173f3e7",
   "metadata": {},
   "source": [
    "# Problem 1"
   ]
  },
  {
   "cell_type": "code",
   "execution_count": 4,
   "id": "b627d5ce-4fc4-48a9-a58e-bbfe5757592a",
   "metadata": {},
   "outputs": [],
   "source": [
    "def e(i,j,k):\n",
    "    even_perms = [(1,2,3),(2,3,1),(3,1,2)]\n",
    "    odd_perms  = [(2,1,3),(3,2,1),(1,3,2)]\n",
    "    if (i,j,k) in even_perms:\n",
    "        return 1\n",
    "    elif (i,j,k) in odd_perms:\n",
    "        return -1\n",
    "    else:\n",
    "        return 0\n",
    "    \n",
    "def d(i,j):\n",
    "    if i == j:\n",
    "        return 1\n",
    "    else:\n",
    "        return 0"
   ]
  },
  {
   "cell_type": "code",
   "execution_count": 8,
   "id": "99e7194e-233f-41c9-9d6f-d0872a30136b",
   "metadata": {},
   "outputs": [],
   "source": [
    "def left(j,k,m,n):\n",
    "    return sum([e(i,j,k)*e(i,m,n) for i in [1,2,3]])\n",
    "    \n",
    "def right(j,k,m,n):\n",
    "    return d(j,m)*d(k,n) - d(j,n)*d(k,m)"
   ]
  },
  {
   "cell_type": "code",
   "execution_count": 11,
   "id": "c3a8b450-bf8e-4189-9aac-5fc649c31b44",
   "metadata": {},
   "outputs": [
    {
     "name": "stdout",
     "output_type": "stream",
     "text": [
      "(j,k,m,n) & $\\epsilon_{ijk}\\epsilon_{imn}$ & $\\delta_{jm}\\delta_{kn} - \\delta_{jn}\\delta_{km}$\n",
      "(1,1,1,1) & 0  & 0 \\\\\n",
      "(1,1,1,2) & 0  & 0 \\\\\n",
      "(1,1,1,3) & 0  & 0 \\\\\n",
      "(1,1,2,1) & 0  & 0 \\\\\n",
      "(1,1,2,2) & 0  & 0 \\\\\n",
      "(1,1,2,3) & 0  & 0 \\\\\n",
      "(1,1,3,1) & 0  & 0 \\\\\n",
      "(1,1,3,2) & 0  & 0 \\\\\n",
      "(1,1,3,3) & 0  & 0 \\\\\n",
      "(1,2,1,1) & 0  & 0 \\\\\n",
      "(1,2,1,2) & 1  & 1 \\\\\n",
      "(1,2,1,3) & 0  & 0 \\\\\n",
      "(1,2,2,1) & -1  & -1 \\\\\n",
      "(1,2,2,2) & 0  & 0 \\\\\n",
      "(1,2,2,3) & 0  & 0 \\\\\n",
      "(1,2,3,1) & 0  & 0 \\\\\n",
      "(1,2,3,2) & 0  & 0 \\\\\n",
      "(1,2,3,3) & 0  & 0 \\\\\n",
      "(1,3,1,1) & 0  & 0 \\\\\n",
      "(1,3,1,2) & 0  & 0 \\\\\n",
      "(1,3,1,3) & 1  & 1 \\\\\n",
      "(1,3,2,1) & 0  & 0 \\\\\n",
      "(1,3,2,2) & 0  & 0 \\\\\n",
      "(1,3,2,3) & 0  & 0 \\\\\n",
      "(1,3,3,1) & -1  & -1 \\\\\n",
      "(1,3,3,2) & 0  & 0 \\\\\n",
      "(1,3,3,3) & 0  & 0 \\\\\n",
      "(2,1,1,1) & 0  & 0 \\\\\n",
      "(2,1,1,2) & -1  & -1 \\\\\n",
      "(2,1,1,3) & 0  & 0 \\\\\n",
      "(2,1,2,1) & 1  & 1 \\\\\n",
      "(2,1,2,2) & 0  & 0 \\\\\n",
      "(2,1,2,3) & 0  & 0 \\\\\n",
      "(2,1,3,1) & 0  & 0 \\\\\n",
      "(2,1,3,2) & 0  & 0 \\\\\n",
      "(2,1,3,3) & 0  & 0 \\\\\n",
      "(2,2,1,1) & 0  & 0 \\\\\n",
      "(2,2,1,2) & 0  & 0 \\\\\n",
      "(2,2,1,3) & 0  & 0 \\\\\n",
      "(2,2,2,1) & 0  & 0 \\\\\n",
      "(2,2,2,2) & 0  & 0 \\\\\n",
      "(2,2,2,3) & 0  & 0 \\\\\n",
      "(2,2,3,1) & 0  & 0 \\\\\n",
      "(2,2,3,2) & 0  & 0 \\\\\n",
      "(2,2,3,3) & 0  & 0 \\\\\n",
      "(2,3,1,1) & 0  & 0 \\\\\n",
      "(2,3,1,2) & 0  & 0 \\\\\n",
      "(2,3,1,3) & 0  & 0 \\\\\n",
      "(2,3,2,1) & 0  & 0 \\\\\n",
      "(2,3,2,2) & 0  & 0 \\\\\n",
      "(2,3,2,3) & 1  & 1 \\\\\n",
      "(2,3,3,1) & 0  & 0 \\\\\n",
      "(2,3,3,2) & -1  & -1 \\\\\n",
      "(2,3,3,3) & 0  & 0 \\\\\n",
      "(3,1,1,1) & 0  & 0 \\\\\n",
      "(3,1,1,2) & 0  & 0 \\\\\n",
      "(3,1,1,3) & -1  & -1 \\\\\n",
      "(3,1,2,1) & 0  & 0 \\\\\n",
      "(3,1,2,2) & 0  & 0 \\\\\n",
      "(3,1,2,3) & 0  & 0 \\\\\n",
      "(3,1,3,1) & 1  & 1 \\\\\n",
      "(3,1,3,2) & 0  & 0 \\\\\n",
      "(3,1,3,3) & 0  & 0 \\\\\n",
      "(3,2,1,1) & 0  & 0 \\\\\n",
      "(3,2,1,2) & 0  & 0 \\\\\n",
      "(3,2,1,3) & 0  & 0 \\\\\n",
      "(3,2,2,1) & 0  & 0 \\\\\n",
      "(3,2,2,2) & 0  & 0 \\\\\n",
      "(3,2,2,3) & -1  & -1 \\\\\n",
      "(3,2,3,1) & 0  & 0 \\\\\n",
      "(3,2,3,2) & 1  & 1 \\\\\n",
      "(3,2,3,3) & 0  & 0 \\\\\n",
      "(3,3,1,1) & 0  & 0 \\\\\n",
      "(3,3,1,2) & 0  & 0 \\\\\n",
      "(3,3,1,3) & 0  & 0 \\\\\n",
      "(3,3,2,1) & 0  & 0 \\\\\n",
      "(3,3,2,2) & 0  & 0 \\\\\n",
      "(3,3,2,3) & 0  & 0 \\\\\n",
      "(3,3,3,1) & 0  & 0 \\\\\n",
      "(3,3,3,2) & 0  & 0 \\\\\n",
      "(3,3,3,3) & 0  & 0 \\\\\n"
     ]
    }
   ],
   "source": [
    "idxs = [1,2,3]\n",
    "print(r'(j,k,m,n) & $\\epsilon_{ijk}\\epsilon_{imn}$ & $\\delta_{jm}\\delta_{kn} - \\delta_{jn}\\delta_{km}$')\n",
    "for j in idxs:\n",
    "    for k in idxs:\n",
    "        for m in idxs:\n",
    "            for n in idxs:\n",
    "                print(r'(%d,%d,%d,%d) & %d  & %d \\\\'%(j,k,m,n,left(j,k,m,n),right(j,k,m,n)))"
   ]
  },
  {
   "cell_type": "markdown",
   "id": "9404ee62-6b6a-4227-8499-237be3aea780",
   "metadata": {},
   "source": [
    "# Problem 2.2"
   ]
  },
  {
   "cell_type": "code",
   "execution_count": 18,
   "id": "478ff3c9-8ca2-4e7b-bd4c-78f3524a1bfd",
   "metadata": {},
   "outputs": [],
   "source": [
    "def d(i,j):\n",
    "    if i == j:\n",
    "        return 1\n",
    "    else:\n",
    "        return 0"
   ]
  },
  {
   "cell_type": "code",
   "execution_count": 19,
   "id": "8fa6b2cb-9861-4481-bc35-a9367fc6efd6",
   "metadata": {},
   "outputs": [],
   "source": [
    "def left(k,n):\n",
    "    return sum([d(j,j)*d(k,n) - d(j,n)*d(k,j) for j in [1,2,3]])\n",
    "    \n",
    "def right(k,n):\n",
    "    return 2*d(k,n)"
   ]
  },
  {
   "cell_type": "code",
   "execution_count": 20,
   "id": "797f9c8a-442b-459e-b1c2-ca051e6967eb",
   "metadata": {},
   "outputs": [
    {
     "name": "stdout",
     "output_type": "stream",
     "text": [
      "$(k,n)$ & $\\epsilon_{ijk}\\epsilon_{ijn}$ & $2\\delta_{kn}$ \\\\\n",
      "(1,1) & 2  & 2 \\\\\n",
      "(1,2) & 0  & 0 \\\\\n",
      "(1,3) & 0  & 0 \\\\\n",
      "(2,1) & 0  & 0 \\\\\n",
      "(2,2) & 2  & 2 \\\\\n",
      "(2,3) & 0  & 0 \\\\\n",
      "(3,1) & 0  & 0 \\\\\n",
      "(3,2) & 0  & 0 \\\\\n",
      "(3,3) & 2  & 2 \\\\\n"
     ]
    }
   ],
   "source": [
    "idxs = [1,2,3]\n",
    "print(r'$(k,n)$ & $\\epsilon_{ijk}\\epsilon_{ijn}$ & $2\\delta_{kn}$ \\\\')\n",
    "for k in idxs:\n",
    "    for n in idxs:\n",
    "        print(r'(%d,%d) & %d  & %d \\\\'%(k,n,left(k,n),right(k,n)))"
   ]
  },
  {
   "cell_type": "code",
   "execution_count": null,
   "id": "910633f3-be81-4cd9-87c1-b766108874f0",
   "metadata": {},
   "outputs": [],
   "source": []
  }
 ],
 "metadata": {
  "kernelspec": {
   "display_name": "Python 3 (ipykernel)",
   "language": "python",
   "name": "python3"
  },
  "language_info": {
   "codemirror_mode": {
    "name": "ipython",
    "version": 3
   },
   "file_extension": ".py",
   "mimetype": "text/x-python",
   "name": "python",
   "nbconvert_exporter": "python",
   "pygments_lexer": "ipython3",
   "version": "3.9.7"
  }
 },
 "nbformat": 4,
 "nbformat_minor": 5
}
