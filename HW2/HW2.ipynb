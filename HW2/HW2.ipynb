{
 "cells": [
  {
   "cell_type": "markdown",
   "id": "ea389e2c-3eee-42b4-b37b-1f7ccfe56c63",
   "metadata": {},
   "source": [
    "# Imports"
   ]
  },
  {
   "cell_type": "code",
   "execution_count": 1,
   "id": "1c36b629-27af-46eb-ac8e-35ec9c81d21d",
   "metadata": {},
   "outputs": [],
   "source": [
    "import sympy as sp"
   ]
  },
  {
   "cell_type": "markdown",
   "id": "ee3f6aad-a28e-4928-b04e-e285cf9f6e51",
   "metadata": {},
   "source": [
    "# Cahill"
   ]
  },
  {
   "cell_type": "markdown",
   "id": "1721e9e5-0763-4ad3-a90b-4e7fcb53412a",
   "metadata": {},
   "source": [
    "## Problem 29"
   ]
  },
  {
   "cell_type": "code",
   "execution_count": 63,
   "id": "d9af99be-4432-4e74-839c-9ce856a95e21",
   "metadata": {},
   "outputs": [],
   "source": [
    "theta = sp.symbols(r'\\theta_{1:4}')\n",
    "\n",
    "J1 = -sp.I*sp.Matrix([[0,0,0],\n",
    "                     [0,0,1],\n",
    "                     [0,-1,0]])\n",
    "J2 = -sp.I*sp.Matrix([[0,0,-1],\n",
    "                    [0,0,0],\n",
    "                    [1,0,0]])\n",
    "J3 = -sp.I*sp.Matrix([[0,1,0],\n",
    "                    [-1,0,0],\n",
    "                    [0,0,0]])\n",
    "\n",
    "X = -sp.I*(theta[0]*J1 + theta[1]*J2 + theta[2]*J3)"
   ]
  },
  {
   "cell_type": "code",
   "execution_count": 71,
   "id": "54892180-26e2-40bd-b530-8b831ad3f523",
   "metadata": {},
   "outputs": [
    {
     "data": {
      "text/latex": [
       "$\\displaystyle \\left[\\begin{matrix}- \\lambda & - \\theta_{3} & \\theta_{2}\\\\\\theta_{3} & - \\lambda & - \\theta_{1}\\\\- \\theta_{2} & \\theta_{1} & - \\lambda\\end{matrix}\\right]$"
      ],
      "text/plain": [
       "Matrix([\n",
       "[   -\\lambda, -\\theta_{3},  \\theta_{2}],\n",
       "[ \\theta_{3},    -\\lambda, -\\theta_{1}],\n",
       "[-\\theta_{2},  \\theta_{1},    -\\lambda]])"
      ]
     },
     "metadata": {},
     "output_type": "display_data"
    }
   ],
   "source": [
    "lam = sp.Symbol(r'\\lambda')\n",
    "det = (X - lam*sp.eye(3)).det()\n",
    "display(X - lam*sp.eye(3))"
   ]
  },
  {
   "cell_type": "code",
   "execution_count": 66,
   "id": "65926c3e-4168-4ece-bd8e-529fbe84fc98",
   "metadata": {},
   "outputs": [
    {
     "data": {
      "text/latex": [
       "$\\displaystyle - \\lambda \\left(\\lambda^{2} + \\theta_{1}^{2} + \\theta_{2}^{2} + \\theta_{3}^{2}\\right)$"
      ],
      "text/plain": [
       "-\\lambda*(\\lambda**2 + \\theta_{1}**2 + \\theta_{2}**2 + \\theta_{3}**2)"
      ]
     },
     "execution_count": 66,
     "metadata": {},
     "output_type": "execute_result"
    }
   ],
   "source": [
    "det.simplify().factor()"
   ]
  },
  {
   "cell_type": "code",
   "execution_count": 67,
   "id": "174e280a-0ff1-48c4-99f3-dcb74074568e",
   "metadata": {},
   "outputs": [
    {
     "data": {
      "text/latex": [
       "$\\displaystyle \\left[\\begin{matrix}- \\theta_{2}^{2} - \\theta_{3}^{2} & \\theta_{1} \\theta_{2} & \\theta_{1} \\theta_{3}\\\\\\theta_{1} \\theta_{2} & - \\theta_{1}^{2} - \\theta_{3}^{2} & \\theta_{2} \\theta_{3}\\\\\\theta_{1} \\theta_{3} & \\theta_{2} \\theta_{3} & - \\theta_{1}^{2} - \\theta_{2}^{2}\\end{matrix}\\right]$"
      ],
      "text/plain": [
       "Matrix([\n",
       "[-\\theta_{2}**2 - \\theta_{3}**2,          \\theta_{1}*\\theta_{2},          \\theta_{1}*\\theta_{3}],\n",
       "[         \\theta_{1}*\\theta_{2}, -\\theta_{1}**2 - \\theta_{3}**2,          \\theta_{2}*\\theta_{3}],\n",
       "[         \\theta_{1}*\\theta_{3},          \\theta_{2}*\\theta_{3}, -\\theta_{1}**2 - \\theta_{2}**2]])"
      ]
     },
     "metadata": {},
     "output_type": "display_data"
    }
   ],
   "source": [
    "display(X**2)"
   ]
  },
  {
   "cell_type": "code",
   "execution_count": 72,
   "id": "fa8cfdfa-06a5-4ad1-91e5-280b18605588",
   "metadata": {},
   "outputs": [
    {
     "data": {
      "text/latex": [
       "$\\displaystyle \\left[\\begin{matrix}\\theta_{2}^{2} + \\theta_{3}^{2} & - \\theta_{1} \\theta_{2} & - \\theta_{1} \\theta_{3}\\\\- \\theta_{1} \\theta_{2} & \\theta_{1}^{2} + \\theta_{3}^{2} & - \\theta_{2} \\theta_{3}\\\\- \\theta_{1} \\theta_{3} & - \\theta_{2} \\theta_{3} & \\theta_{1}^{2} + \\theta_{2}^{2}\\end{matrix}\\right]$"
      ],
      "text/plain": [
       "Matrix([\n",
       "[\\theta_{2}**2 + \\theta_{3}**2,        -\\theta_{1}*\\theta_{2},        -\\theta_{1}*\\theta_{3}],\n",
       "[       -\\theta_{1}*\\theta_{2}, \\theta_{1}**2 + \\theta_{3}**2,        -\\theta_{2}*\\theta_{3}],\n",
       "[       -\\theta_{1}*\\theta_{3},        -\\theta_{2}*\\theta_{3}, \\theta_{1}**2 + \\theta_{2}**2]])"
      ]
     },
     "metadata": {},
     "output_type": "display_data"
    },
    {
     "data": {
      "text/latex": [
       "$\\displaystyle \\left[\\begin{matrix}0 & 0 & 0\\\\0 & 0 & 0\\\\0 & 0 & 0\\end{matrix}\\right]$"
      ],
      "text/plain": [
       "Matrix([\n",
       "[0, 0, 0],\n",
       "[0, 0, 0],\n",
       "[0, 0, 0]])"
      ]
     },
     "execution_count": 72,
     "metadata": {},
     "output_type": "execute_result"
    }
   ],
   "source": [
    "temp = sp.Matrix([theta[_] for _ in range(3)])\n",
    "res  = (theta[0]**2 + theta[1]**2 + theta[2]**2)*sp.eye(3) - temp*temp.T\n",
    "display(res)\n",
    "X**2 + res"
   ]
  },
  {
   "cell_type": "markdown",
   "id": "717a19c4-4d34-4c17-a07a-76287f472456",
   "metadata": {},
   "source": [
    "## Problem 30"
   ]
  },
  {
   "cell_type": "code",
   "execution_count": 2,
   "id": "057bc1d8-c245-4971-9fb3-f9aabe8d315c",
   "metadata": {},
   "outputs": [],
   "source": [
    "theta = sp.Symbol(r'\\theta')\n",
    "lam   = sp.Symbol(r'\\lambda')\n",
    "\n",
    "det   = -lam*(lam**2 + theta**2)"
   ]
  },
  {
   "cell_type": "markdown",
   "id": "b37e094b-13da-4f14-ad7d-2539dd41d062",
   "metadata": {},
   "source": [
    "## Problem 32"
   ]
  },
  {
   "cell_type": "code",
   "execution_count": 4,
   "id": "d7ae6ce0-153b-43c6-aabf-de5c7efde1b1",
   "metadata": {},
   "outputs": [
    {
     "data": {
      "text/latex": [
       "$\\displaystyle \\left[\\begin{matrix}14 & 0\\\\0 & 10\\end{matrix}\\right]$"
      ],
      "text/plain": [
       "Matrix([\n",
       "[14,  0],\n",
       "[ 0, 10]])"
      ]
     },
     "metadata": {},
     "output_type": "display_data"
    },
    {
     "data": {
      "text/latex": [
       "$\\displaystyle \\left[\\begin{matrix}10 & 2 & 0\\\\2 & 4 & 6\\\\0 & 6 & 10\\end{matrix}\\right]$"
      ],
      "text/plain": [
       "Matrix([\n",
       "[10, 2,  0],\n",
       "[ 2, 4,  6],\n",
       "[ 0, 6, 10]])"
      ]
     },
     "metadata": {},
     "output_type": "display_data"
    }
   ],
   "source": [
    "A = sp.Matrix([[1,2,3],[-3,0,1]])\n",
    "AAT = A*A.T\n",
    "ATA = A.T*A\n",
    "display(AAT)\n",
    "display(ATA)"
   ]
  },
  {
   "cell_type": "code",
   "execution_count": 8,
   "id": "014d53fd-5e90-4ab1-b21a-ac2dff19f1be",
   "metadata": {},
   "outputs": [
    {
     "data": {
      "text/latex": [
       "$\\displaystyle \\left[\\begin{matrix}0 & 1\\\\1 & 0\\end{matrix}\\right]$"
      ],
      "text/plain": [
       "Matrix([\n",
       "[0, 1],\n",
       "[1, 0]])"
      ]
     },
     "metadata": {},
     "output_type": "display_data"
    },
    {
     "data": {
      "text/latex": [
       "$\\displaystyle \\left[\\begin{matrix}10 & 0\\\\0 & 14\\end{matrix}\\right]$"
      ],
      "text/plain": [
       "Matrix([\n",
       "[10,  0],\n",
       "[ 0, 14]])"
      ]
     },
     "metadata": {},
     "output_type": "display_data"
    }
   ],
   "source": [
    "U,D = AAT.diagonalize()\n",
    "display(U)\n",
    "display(D)"
   ]
  },
  {
   "cell_type": "code",
   "execution_count": 5,
   "id": "0a9f6250-2940-4b41-8325-16b8d970cea1",
   "metadata": {},
   "outputs": [
    {
     "data": {
      "text/latex": [
       "$\\displaystyle \\left[\\begin{matrix}1 & -3 & 1\\\\-5 & 0 & 2\\\\3 & 1 & 3\\end{matrix}\\right]$"
      ],
      "text/plain": [
       "Matrix([\n",
       "[ 1, -3, 1],\n",
       "[-5,  0, 2],\n",
       "[ 3,  1, 3]])"
      ]
     },
     "metadata": {},
     "output_type": "display_data"
    },
    {
     "data": {
      "text/latex": [
       "$\\displaystyle \\left[\\begin{matrix}0 & 0 & 0\\\\0 & 10 & 0\\\\0 & 0 & 14\\end{matrix}\\right]$"
      ],
      "text/plain": [
       "Matrix([\n",
       "[0,  0,  0],\n",
       "[0, 10,  0],\n",
       "[0,  0, 14]])"
      ]
     },
     "metadata": {},
     "output_type": "display_data"
    }
   ],
   "source": [
    "V,Dv = ATA.diagonalize()\n",
    "display(V)\n",
    "display(Dv)"
   ]
  },
  {
   "cell_type": "code",
   "execution_count": 6,
   "id": "a579b11d-72a0-4a43-8a96-f67fe8e4dcc3",
   "metadata": {},
   "outputs": [],
   "source": [
    "a = sp.symbols(r'a_{1:4}')"
   ]
  },
  {
   "cell_type": "code",
   "execution_count": 7,
   "id": "9eb2cf45-106d-49ba-be51-c893e87823cd",
   "metadata": {},
   "outputs": [
    {
     "data": {
      "text/latex": [
       "$\\displaystyle \\left[\\begin{matrix}- \\frac{\\sqrt{14}}{14}\\\\- \\frac{\\sqrt{14}}{7}\\\\- \\frac{3 \\sqrt{14}}{14}\\end{matrix}\\right]$"
      ],
      "text/plain": [
       "Matrix([\n",
       "[  -sqrt(14)/14],\n",
       "[   -sqrt(14)/7],\n",
       "[-3*sqrt(14)/14]])"
      ]
     },
     "metadata": {},
     "output_type": "display_data"
    }
   ],
   "source": [
    "temp = (ATA - 14*sp.eye(3)).rref()[0]\n",
    "vec  = sp.Matrix([a[_] for _ in range(3)])\n",
    "sol  = sp.solve(temp*vec)\n",
    "\n",
    "vec[0] = sol[a[0]]\n",
    "vec[1] = sol[a[1]]\n",
    "free   = sp.solve((vec.T*vec)[0]-1)[0]\n",
    "v1 = vec.subs(a[2],free)\n",
    "display(v1)"
   ]
  },
  {
   "cell_type": "code",
   "execution_count": 8,
   "id": "a61ba985-85b4-4e77-a525-6363de48c39b",
   "metadata": {},
   "outputs": [
    {
     "data": {
      "text/latex": [
       "$\\displaystyle \\left[\\begin{matrix}\\frac{3 \\sqrt{10}}{10}\\\\0\\\\- \\frac{\\sqrt{10}}{10}\\end{matrix}\\right]$"
      ],
      "text/plain": [
       "Matrix([\n",
       "[3*sqrt(10)/10],\n",
       "[            0],\n",
       "[ -sqrt(10)/10]])"
      ]
     },
     "metadata": {},
     "output_type": "display_data"
    }
   ],
   "source": [
    "temp = (ATA - 10*sp.eye(3)).rref()[0]\n",
    "vec  = sp.Matrix([a[_] for _ in range(3)])\n",
    "sol  = sp.solve(temp*vec)\n",
    "\n",
    "vec[0] = sol[a[0]]\n",
    "vec[1] = sol[a[1]]\n",
    "free   = sp.solve((vec.T*vec)[0]-1)[0]\n",
    "v2 = vec.subs(a[2],free)\n",
    "display(v2)"
   ]
  },
  {
   "cell_type": "code",
   "execution_count": 9,
   "id": "77c34534-e361-4b5b-a03b-e60cd9c22b48",
   "metadata": {},
   "outputs": [
    {
     "data": {
      "text/latex": [
       "$\\displaystyle \\left[\\begin{matrix}- \\frac{\\sqrt{35}}{35}\\\\\\frac{\\sqrt{35}}{7}\\\\- \\frac{3 \\sqrt{35}}{35}\\end{matrix}\\right]$"
      ],
      "text/plain": [
       "Matrix([\n",
       "[  -sqrt(35)/35],\n",
       "[    sqrt(35)/7],\n",
       "[-3*sqrt(35)/35]])"
      ]
     },
     "metadata": {},
     "output_type": "display_data"
    }
   ],
   "source": [
    "temp = (ATA - 0*sp.eye(3)).rref()[0]\n",
    "vec  = sp.Matrix([a[_] for _ in range(3)])\n",
    "sol  = sp.solve(temp*vec)\n",
    "\n",
    "vec[0] = sol[a[0]]\n",
    "vec[1] = sol[a[1]]\n",
    "free   = sp.solve((vec.T*vec)[0]-1)[0]\n",
    "v3 = vec.subs(a[2],free)\n",
    "display(v3)"
   ]
  },
  {
   "cell_type": "code",
   "execution_count": 44,
   "id": "5694e230-abba-452b-a710-f27dfd9940d1",
   "metadata": {},
   "outputs": [],
   "source": [
    "V = sp.Matrix([v1.T,v2.T,v3.T]).T"
   ]
  },
  {
   "cell_type": "code",
   "execution_count": 47,
   "id": "007fb51e-364f-46f0-baf9-29d01e54b7da",
   "metadata": {},
   "outputs": [],
   "source": [
    "sig = sp.Matrix([[sp.sqrt(14),0,0],[0,sp.sqrt(10),0]])"
   ]
  },
  {
   "cell_type": "code",
   "execution_count": 49,
   "id": "96f40675-26fe-44d0-93cf-5c5db9043170",
   "metadata": {},
   "outputs": [
    {
     "data": {
      "text/latex": [
       "$\\displaystyle \\left[\\begin{matrix}-1 & -2 & -3\\\\3 & 0 & -1\\end{matrix}\\right]$"
      ],
      "text/plain": [
       "Matrix([\n",
       "[-1, -2, -3],\n",
       "[ 3,  0, -1]])"
      ]
     },
     "execution_count": 49,
     "metadata": {},
     "output_type": "execute_result"
    }
   ],
   "source": [
    "sig*V.T"
   ]
  },
  {
   "cell_type": "markdown",
   "id": "f4a8d098-9f52-41d3-9cf6-7ffc815b0f8d",
   "metadata": {},
   "source": [
    "## Problem 1.35"
   ]
  },
  {
   "cell_type": "code",
   "execution_count": 80,
   "id": "97f43a08-5b64-48ed-83ae-6511d16b96c1",
   "metadata": {},
   "outputs": [],
   "source": [
    "hbar  = sp.Symbol(r'h')\n",
    "omega = sp.Symbol(r'\\omega')\n",
    "k     = sp.Symbol(r'k')\n",
    "T     = sp.Symbol(r'T')\n",
    "\n",
    "sig3 = sp.Matrix([[1,0],[0,-1]])\n",
    "M    = -hbar*omega*sig3/2/k/T\n",
    "rho  = sp.exp(M)\n",
    "rho  = rho/sp.trace(rho)\n",
    "# rho  = rho.simplify()\n",
    "\n",
    "log_rho = sp.Matrix([[sp.log(rho[0,0]),0],[0,sp.log(rho[1,1])]])\n",
    "\n",
    "S_arg = rho*log_rho\n",
    "S = -k*sp.trace(S_arg)"
   ]
  },
  {
   "cell_type": "code",
   "execution_count": 87,
   "id": "b9ef60bf-90ac-45fe-a721-87f7c038efe1",
   "metadata": {},
   "outputs": [
    {
     "data": {
      "text/latex": [
       "$\\displaystyle - k \\left(\\frac{e^{\\frac{\\omega h}{2 T k}} \\log{\\left(\\frac{e^{\\frac{\\omega h}{2 T k}}}{e^{\\frac{\\omega h}{2 T k}} + e^{- \\frac{\\omega h}{2 T k}}} \\right)}}{e^{\\frac{\\omega h}{2 T k}} + e^{- \\frac{\\omega h}{2 T k}}} + \\frac{e^{- \\frac{\\omega h}{2 T k}} \\log{\\left(\\frac{e^{- \\frac{\\omega h}{2 T k}}}{e^{\\frac{\\omega h}{2 T k}} + e^{- \\frac{\\omega h}{2 T k}}} \\right)}}{e^{\\frac{\\omega h}{2 T k}} + e^{- \\frac{\\omega h}{2 T k}}}\\right)$"
      ],
      "text/plain": [
       "-k*(exp(\\omega*h/(2*T*k))*log(exp(\\omega*h/(2*T*k))/(exp(\\omega*h/(2*T*k)) + exp(-\\omega*h/(2*T*k))))/(exp(\\omega*h/(2*T*k)) + exp(-\\omega*h/(2*T*k))) + exp(-\\omega*h/(2*T*k))*log(exp(-\\omega*h/(2*T*k))/(exp(\\omega*h/(2*T*k)) + exp(-\\omega*h/(2*T*k))))/(exp(\\omega*h/(2*T*k)) + exp(-\\omega*h/(2*T*k))))"
      ]
     },
     "execution_count": 87,
     "metadata": {},
     "output_type": "execute_result"
    }
   ],
   "source": [
    "S"
   ]
  },
  {
   "cell_type": "code",
   "execution_count": null,
   "id": "0b256a30-4b91-455f-b8b0-3140715ec614",
   "metadata": {},
   "outputs": [],
   "source": []
  }
 ],
 "metadata": {
  "kernelspec": {
   "display_name": "Python 3 (ipykernel)",
   "language": "python",
   "name": "python3"
  },
  "language_info": {
   "codemirror_mode": {
    "name": "ipython",
    "version": 3
   },
   "file_extension": ".py",
   "mimetype": "text/x-python",
   "name": "python",
   "nbconvert_exporter": "python",
   "pygments_lexer": "ipython3",
   "version": "3.10.4"
  }
 },
 "nbformat": 4,
 "nbformat_minor": 5
}
